{
 "cells": [
  {
   "cell_type": "code",
   "execution_count": null,
   "id": "515d28c5-63a9-4899-9e8a-88c8497d655b",
   "metadata": {
    "execution": {
     "iopub.execute_input": "2025-09-19T00:53:43.136858Z",
     "iopub.status.busy": "2025-09-19T00:53:43.136660Z",
     "iopub.status.idle": "2025-09-19T00:53:46.682354Z",
     "shell.execute_reply": "2025-09-19T00:53:46.680426Z",
     "shell.execute_reply.started": "2025-09-19T00:53:43.136840Z"
    }
   },
   "outputs": [],
   "source": [
    "%%pyspark project.spark.compatibility\n",
    "# Enter y# 1. List out the month suffixes you need\n",
    "months = [\"202501\", \"202502\", \"202503\", \"202504\"]\n",
    "\n",
    "print(\"HI\")\n",
    "\n",
    "# 2. Build the full S3 paths\n",
    "base_path = \"s3://<your-s3-bucket>/\"\n",
    "paths = [f\"{base_path}/user_action_month_{m}.parquet\" for m in months]\n",
    "\n",
    "# 3. Read them all at once (spark.read.parquet accepts multiple paths)\n",
    "df = spark.read.parquet(*paths)our code at the start of this line to replace this comment"
   ]
  },
  {
   "cell_type": "code",
   "execution_count": null,
   "id": "2ef887a5-e026-4d50-aa87-f9af3ebd9f54",
   "metadata": {
    "execution": {
     "iopub.execute_input": "2025-09-19T00:54:28.898996Z",
     "iopub.status.busy": "2025-09-19T00:54:28.898539Z",
     "iopub.status.idle": "2025-09-19T00:54:37.741694Z",
     "shell.execute_reply": "2025-09-19T00:54:37.740799Z",
     "shell.execute_reply.started": "2025-09-19T00:54:28.898973Z"
    }
   },
   "outputs": [],
   "source": [
    "%%pyspark project.spark.compatibility\n",
    "# Enter y# 1. List out the month suffixes you need\n",
    "months = [\"202501\", \"202502\", \"202503\", \"202504\"]\n",
    "\n",
    "print(\"HI\")\n",
    "\n",
    "# 2. Build the full S3 paths\n",
    "base_path = \"s3://<your-s3-bucket>/\"\n",
    "paths = [f\"{base_path}/user_action_month_{m}.parquet\" for m in months]\n",
    "\n",
    "# 3. Read them all at once (spark.read.parquet accepts multiple paths)\n",
    "df = spark.read.parquet(*paths)"
   ]
  }
 ],
 "metadata": {
  "kernelspec": {
   "display_name": "Python 3 (ipykernel)",
   "language": "python",
   "name": "python3"
  },
  "language_info": {
   "codemirror_mode": {
    "name": "ipython",
    "version": 3
   },
   "file_extension": ".py",
   "mimetype": "text/x-python",
   "name": "python",
   "nbconvert_exporter": "python",
   "pygments_lexer": "ipython3",
   "version": "3.11.11"
  }
 },
 "nbformat": 4,
 "nbformat_minor": 5
}
